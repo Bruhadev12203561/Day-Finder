{
 "cells": [
  {
   "cell_type": "code",
   "execution_count": 3,
   "id": "3dc3dae7",
   "metadata": {},
   "outputs": [
    {
     "name": "stdout",
     "output_type": "stream",
     "text": [
      "Enter the date(for example:09 02 2019):09 05 2022\n",
      "Monday\n"
     ]
    }
   ],
   "source": [
    "import datetime \n",
    "date=str(input('Enter the date(for example:09 02 2019):'))\n",
    "day_name= ['Monday', 'Tuesday', 'Wednesday', 'Thursday', 'Friday', 'Saturday','Sunday']\n",
    "day = datetime.datetime.strptime(date, '%d %m %Y').weekday()\n",
    "print(day_name[day]) \n"
   ]
  },
  {
   "cell_type": "code",
   "execution_count": null,
   "id": "450add1c",
   "metadata": {},
   "outputs": [],
   "source": []
  }
 ],
 "metadata": {
  "kernelspec": {
   "display_name": "Python 3 (ipykernel)",
   "language": "python",
   "name": "python3"
  },
  "language_info": {
   "codemirror_mode": {
    "name": "ipython",
    "version": 3
   },
   "file_extension": ".py",
   "mimetype": "text/x-python",
   "name": "python",
   "nbconvert_exporter": "python",
   "pygments_lexer": "ipython3",
   "version": "3.9.12"
  }
 },
 "nbformat": 4,
 "nbformat_minor": 5
}
